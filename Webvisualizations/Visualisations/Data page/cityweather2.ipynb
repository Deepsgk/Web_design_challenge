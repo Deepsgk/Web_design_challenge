{
 "cells": [
  {
   "cell_type": "code",
   "execution_count": 4,
   "id": "c9be7f20",
   "metadata": {},
   "outputs": [],
   "source": [
    "# using prettytable to avoid index and give a neater look for the data tables\n",
    "from prettytable import PrettyTable \n",
    "file = open(\"cities.csv\", 'r') \n",
    "file = file.readlines() \n",
    "head = file[0] \n",
    "head = head.split(',')\n",
    "#for headings\n",
    "table = PrettyTable([head[0], head[1],head[2],head[3],head[4],head[5],head[6],head[7],head[8],head[9]]) \n",
    "for i in range(1, len(file)) : \n",
    "    table.add_row(file[i].split(','))\n",
    "htmlCode = table.get_html_string() \n",
    "final_htmlFile = open('cities2.html', 'w') \n",
    "final_htmlFile=final_htmlFile.write(htmlCode)\n"
   ]
  },
  {
   "cell_type": "code",
   "execution_count": null,
   "id": "00068b35",
   "metadata": {},
   "outputs": [],
   "source": []
  },
  {
   "cell_type": "code",
   "execution_count": null,
   "id": "fc4cd429",
   "metadata": {},
   "outputs": [],
   "source": []
  }
 ],
 "metadata": {
  "kernelspec": {
   "display_name": "Python 3.7.13 ('bootcamp')",
   "language": "python",
   "name": "python3"
  },
  "language_info": {
   "codemirror_mode": {
    "name": "ipython",
    "version": 3
   },
   "file_extension": ".py",
   "mimetype": "text/x-python",
   "name": "python",
   "nbconvert_exporter": "python",
   "pygments_lexer": "ipython3",
   "version": "3.7.13"
  },
  "vscode": {
   "interpreter": {
    "hash": "5b49a2cc7901a64b87b528027f3791aba9aff60f7eff11279390de2e55956293"
   }
  }
 },
 "nbformat": 4,
 "nbformat_minor": 5
}
